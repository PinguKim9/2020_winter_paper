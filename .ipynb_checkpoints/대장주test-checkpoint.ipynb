{
 "cells": [
  {
   "cell_type": "code",
   "execution_count": 1,
   "metadata": {},
   "outputs": [],
   "source": [
    "import time"
   ]
  },
  {
   "cell_type": "code",
   "execution_count": 2,
   "metadata": {},
   "outputs": [],
   "source": [
    "import datetime"
   ]
  },
  {
   "cell_type": "code",
   "execution_count": 3,
   "metadata": {},
   "outputs": [],
   "source": [
    "import pandas as pd"
   ]
  },
  {
   "cell_type": "code",
   "execution_count": null,
   "metadata": {},
   "outputs": [],
   "source": []
  },
  {
   "cell_type": "code",
   "execution_count": null,
   "metadata": {},
   "outputs": [],
   "source": []
  },
  {
   "cell_type": "code",
   "execution_count": null,
   "metadata": {},
   "outputs": [],
   "source": []
  },
  {
   "cell_type": "code",
   "execution_count": 12,
   "metadata": {},
   "outputs": [
    {
     "name": "stdout",
     "output_type": "stream",
     "text": [
      "yfinance.Ticker object <MSFT>\n"
     ]
    },
    {
     "data": {
      "text/plain": [
       "'\\nreturns:\\n              Open    High    Low    Close      Volume  Dividends  Splits\\nDate\\n1986-03-13    0.06    0.07    0.06    0.07  1031788800        0.0     0.0\\n1986-03-14    0.07    0.07    0.07    0.07   308160000        0.0     0.0\\n...\\n2019-11-12  146.28  147.57  146.06  147.07    18641600        0.0     0.0\\n2019-11-13  146.74  147.46  146.30  147.31    16295622        0.0     0.0\\n'"
      ]
     },
     "execution_count": 12,
     "metadata": {},
     "output_type": "execute_result"
    }
   ],
   "source": [
    "import yfinance as yf\n",
    "\n",
    "msft = yf.Ticker(\"MSFT\")\n",
    "print(msft)\n",
    "\"\"\"\n",
    "returns\n",
    "<yfinance.Ticker object at 0x1a1715e898>\n",
    "\"\"\"\n",
    "\n",
    "# get stock info\n",
    "msft.info\n",
    "\n",
    "\"\"\"\n",
    "returns:\n",
    "{\n",
    " 'quoteType': 'EQUITY',\n",
    " 'quoteSourceName': 'Nasdaq Real Time Price',\n",
    " 'currency': 'USD',\n",
    " 'shortName': 'Microsoft Corporation',\n",
    " 'exchangeTimezoneName': 'America/New_York',\n",
    "  ...\n",
    " 'symbol': 'MSFT'\n",
    "}\n",
    "\"\"\"\n",
    "\n",
    "# get historical market data, here max is 5 years.\n",
    "msft.history(period=\"max\")\n",
    "\"\"\"\n",
    "returns:\n",
    "              Open    High    Low    Close      Volume  Dividends  Splits\n",
    "Date\n",
    "1986-03-13    0.06    0.07    0.06    0.07  1031788800        0.0     0.0\n",
    "1986-03-14    0.07    0.07    0.07    0.07   308160000        0.0     0.0\n",
    "...\n",
    "2019-11-12  146.28  147.57  146.06  147.07    18641600        0.0     0.0\n",
    "2019-11-13  146.74  147.46  146.30  147.31    16295622        0.0     0.0\n",
    "\"\"\""
   ]
  },
  {
   "cell_type": "code",
   "execution_count": null,
   "metadata": {},
   "outputs": [],
   "source": []
  },
  {
   "cell_type": "code",
   "execution_count": null,
   "metadata": {},
   "outputs": [],
   "source": []
  },
  {
   "cell_type": "code",
   "execution_count": null,
   "metadata": {},
   "outputs": [],
   "source": []
  },
  {
   "cell_type": "code",
   "execution_count": null,
   "metadata": {},
   "outputs": [],
   "source": []
  },
  {
   "cell_type": "code",
   "execution_count": 6,
   "metadata": {},
   "outputs": [],
   "source": [
    "import sqlite3"
   ]
  },
  {
   "cell_type": "code",
   "execution_count": 7,
   "metadata": {},
   "outputs": [],
   "source": [
    "# 싱글톤 패턴\n",
    "_instance = None\n",
    "def __new__(cls, *args, **kwargs):\n",
    "    if cls._instance is None:\n",
    "        cls._instance = object.__new__(cls)\n",
    "        return cls._instance\n",
    "    return cls._instance\n"
   ]
  },
  {
   "cell_type": "code",
   "execution_count": 8,
   "metadata": {},
   "outputs": [],
   "source": [
    "def __init__(self):\n",
    "    self.open_Db()\n"
   ]
  },
  {
   "cell_type": "code",
   "execution_count": 9,
   "metadata": {},
   "outputs": [],
   "source": [
    "# DB를 오픈한다.\n",
    "def open_Db(self):\n",
    "    self.con = sqlite3.connect(\"./kosdaq_leverage.db\")\n",
    "    self.cursor = self.con.cursor()\n"
   ]
  },
  {
   "cell_type": "code",
   "execution_count": null,
   "metadata": {},
   "outputs": [],
   "source": []
  },
  {
   "cell_type": "code",
   "execution_count": null,
   "metadata": {},
   "outputs": [],
   "source": []
  },
  {
   "cell_type": "code",
   "execution_count": null,
   "metadata": {},
   "outputs": [],
   "source": []
  },
  {
   "cell_type": "code",
   "execution_count": null,
   "metadata": {},
   "outputs": [],
   "source": []
  },
  {
   "cell_type": "code",
   "execution_count": null,
   "metadata": {},
   "outputs": [],
   "source": []
  },
  {
   "cell_type": "code",
   "execution_count": null,
   "metadata": {},
   "outputs": [],
   "source": []
  },
  {
   "cell_type": "code",
   "execution_count": null,
   "metadata": {},
   "outputs": [],
   "source": []
  },
  {
   "cell_type": "code",
   "execution_count": null,
   "metadata": {},
   "outputs": [],
   "source": []
  },
  {
   "cell_type": "code",
   "execution_count": null,
   "metadata": {},
   "outputs": [],
   "source": []
  },
  {
   "cell_type": "code",
   "execution_count": null,
   "metadata": {},
   "outputs": [],
   "source": [
    "class StockDb(object):\n",
    "\n",
    "    # 싱글톤 패턴\n",
    "    _instance = None\n",
    "    def __new__(cls, *args, **kwargs):\n",
    "        if cls._instance is None:\n",
    "            cls._instance = object.__new__(cls)\n",
    "            return cls._instance\n",
    "        return cls._instance\n",
    "\n",
    "\n",
    "    def __init__(self):\n",
    "        self.open_Db()\n",
    "\n",
    "    # DB를 오픈한다.\n",
    "    def open_Db(self):\n",
    "        self.con = sqlite3.connect(\"./kosdaq_leverage.db\")\n",
    "        self.cursor = self.con.cursor()\n",
    "\n",
    "\n",
    "    def create_StockDb(self):\n",
    "        self.cursor.execute(\"CREATE TABLE kosdaq_leve(date text unique, high int, low int);\")\n",
    "        self.cursor.execute(\"CREATE TABLE kosdaq_start(date text unique, start int);\")\n",
    "        self.cursor.execute(\"CREATE TABLE kosdaq_leve_day(date text unique, start int, end int);\")\n",
    "\n",
    "\n",
    "    def create_OrderDb(self):\n",
    "        self.cursor.execute(\"CREATE TABLE buy(date text, buy_price int, buy_reason text, buy_id integer primary key autoincrement);\")\n",
    "        self.cursor.execute(\"CREATE TABLE sell(date text, sell_price int, sell_reason text, sell_id integer primary key autoincrement references buy(buy_id));\")\n",
    "        self.cursor.execute(\"CREATE TABLE optimize_profit(********* int, ******* int, profit int);\")\n",
    "\n",
    "    def commit(self):\n",
    "        self.con.commit()"
   ]
  },
  {
   "cell_type": "code",
   "execution_count": null,
   "metadata": {},
   "outputs": [],
   "source": []
  },
  {
   "cell_type": "code",
   "execution_count": null,
   "metadata": {},
   "outputs": [],
   "source": []
  },
  {
   "cell_type": "code",
   "execution_count": null,
   "metadata": {},
   "outputs": [],
   "source": []
  },
  {
   "cell_type": "code",
   "execution_count": 4,
   "metadata": {},
   "outputs": [],
   "source": [
    "import sqlite3\n",
    "import pandas as pd"
   ]
  },
  {
   "cell_type": "code",
   "execution_count": 5,
   "metadata": {},
   "outputs": [
    {
     "ename": "SyntaxError",
     "evalue": "invalid syntax (<ipython-input-5-96adf4e446a2>, line 48)",
     "output_type": "error",
     "traceback": [
      "\u001b[1;36m  File \u001b[1;32m\"<ipython-input-5-96adf4e446a2>\"\u001b[1;36m, line \u001b[1;32m48\u001b[0m\n\u001b[1;33m    self.cursor.execute(\"insert into optimize_profit values(?,?,?);\",(*********,**********))\u001b[0m\n\u001b[1;37m                                                                      ^\u001b[0m\n\u001b[1;31mSyntaxError\u001b[0m\u001b[1;31m:\u001b[0m invalid syntax\n"
     ]
    }
   ],
   "source": [
    "class StockDb(object):\n",
    "\n",
    "    # 싱글톤 패턴\n",
    "    _instance = None\n",
    "    def __new__(cls, *args, **kwargs):\n",
    "        if cls._instance is None:\n",
    "            cls._instance = object.__new__(cls)\n",
    "            return cls._instance\n",
    "        return cls._instance\n",
    "\n",
    "\n",
    "    def __init__(self):\n",
    "        self.open_Db()\n",
    "\n",
    "    # DB를 오픈한다.\n",
    "    def open_Db(self):\n",
    "        self.con = sqlite3.connect(\"./kosdaq_leverage.db\")\n",
    "        self.cursor = self.con.cursor()\n",
    "\n",
    "\n",
    "    def create_StockDb(self):\n",
    "        self.cursor.execute(\"CREATE TABLE kosdaq_leve(date text unique, high int, low int);\")\n",
    "        self.cursor.execute(\"CREATE TABLE kosdaq_start(date text unique, start int);\")\n",
    "        self.cursor.execute(\"CREATE TABLE kosdaq_leve_day(date text unique, start int, end int);\")\n",
    "\n",
    "\n",
    "    def create_OrderDb(self):\n",
    "        self.cursor.execute(\"CREATE TABLE buy(date text, buy_price int, buy_reason text, buy_id integer primary key autoincrement);\")\n",
    "        self.cursor.execute(\"CREATE TABLE sell(date text, sell_price int, sell_reason text, sell_id integer primary key autoincrement references buy(buy_id));\")\n",
    "        self.cursor.execute(\"CREATE TABLE optimize_profit(mean_level int, price_limit int, profit int);\")\n",
    "\n",
    "    def insert_Leve(self,day,high, low):\n",
    "        self.cursor.execute(\"insert into kosdaq_leve values(?,?,?);\",(day,high,low))\n",
    "\n",
    "    def insert_Start(self,day,start):\n",
    "        self.cursor.execute(\"insert into kosdaq_start values(?,?);\",(day,start))\n",
    "\n",
    "    def insert_Leve_Day(self,day,start,end):\n",
    "        self.cursor.execute(\"insert into kosdaq_leve_day values(?,?,?);\",(day,start, end))\n",
    "\n",
    "    def insert_Buy(self,day,price,reason):\n",
    "        self.cursor.execute(\"insert into buy (date,buy_price,buy_reason) values(?,?,?);\",(day,price,reason))\n",
    "\n",
    "    def insert_Sell(self,day,price,reason):\n",
    "        self.cursor.execute(\"insert into sell (date,sell_price,sell_reason) values(?,?,?);\", (day,price, reason))\n",
    "\n",
    "    def insert_Profit(self, mean_level, limit, profit):\n",
    "        self.cursor.execute(\"insert into optimize_profit values(?,?,?);\",(*********,**********))\n",
    "\n",
    "    def select_MinuteData(self,day):\n",
    "        data = pd.read_sql(\"SELECT * FROM kosdaq_leve where date like \\'\" + day + \"%\\' order by date;\", self.con, index_col=None)\n",
    "        return data\n",
    "\n",
    "    def select_DailyStart(self,day):\n",
    "        data = pd.read_sql(\"SELECT * FROM kosdaq_start where date like \\'\"+day+\"%\\' order by date;\", self.con, index_col=None)\n",
    "        return data\n",
    "\n",
    "    def select_Buy(self,day):\n",
    "        day = day[0:8]\n",
    "        data = pd.read_sql(\"SELECT * FROM buy where date like \\'\"+day+\"%\\';\",self.con, index_col=None)\n",
    "        return data\n",
    "\n",
    "    def select_Sell(self,day):\n",
    "        day = day[0:8]\n",
    "        data = pd.read_sql(\"SELECT * FROM sell where date like \\'\" + day + \"%\\';\", self.con, index_col=None)\n",
    "        return data\n",
    "\n",
    "    def select_Date(self, start, end):\n",
    "        data = pd.read_sql(\"SELECT date FROM kosdaq_start where date >= \\'\" + start + \"000000\\' and date <= \\'\"+end+\"090000\\' order by date;\", self.con, index_col=None)\n",
    "        return data\n",
    "\n",
    "    def delete_Buy_Sell(self):\n",
    "        self.cursor.execute(\"DELETE FROM sell;\")\n",
    "        self.cursor.execute(\"DELETE FROM buy;\")\n",
    "        self.cursor.execute(\"DELETE FROM sqlite_sequence;\")\n",
    "        self.commit()\n",
    "\n",
    "    def select_Daily_Data(self,start,end):\n",
    "        data = pd.read_sql(\"SELECT * FROM kosdaq_leve_day where date >= \\'\" + start + \"\\' and date <= \\'\"+ end +\"\\';\", self.con, index_col=None)\n",
    "        return data\n",
    "\n",
    "    def select_Optimize_Data(self):\n",
    "        data = pd.read_sql(\"SELECT * FROM optimize_profit;\", self.con, index_col=None)\n",
    "        return data\n",
    "\n",
    "    def commit(self):\n",
    "        self.con.commit()\n",
    "\n",
    "if __name__ == \"__main__\":\n",
    "    db = StockDb()\n",
    "    db.create_StockDb()\n",
    "    db.create_OrderDb()"
   ]
  },
  {
   "cell_type": "code",
   "execution_count": null,
   "metadata": {},
   "outputs": [],
   "source": []
  },
  {
   "cell_type": "code",
   "execution_count": null,
   "metadata": {},
   "outputs": [],
   "source": []
  },
  {
   "cell_type": "code",
   "execution_count": null,
   "metadata": {},
   "outputs": [],
   "source": []
  },
  {
   "cell_type": "code",
   "execution_count": 10,
   "metadata": {},
   "outputs": [
    {
     "ename": "ModuleNotFoundError",
     "evalue": "No module named 'PyQt5.QAxContainer'",
     "output_type": "error",
     "traceback": [
      "\u001b[1;31m---------------------------------------------------------------------------\u001b[0m",
      "\u001b[1;31mModuleNotFoundError\u001b[0m                       Traceback (most recent call last)",
      "\u001b[1;32m<ipython-input-10-f92a7392560f>\u001b[0m in \u001b[0;36m<module>\u001b[1;34m\u001b[0m\n\u001b[1;32m----> 1\u001b[1;33m \u001b[1;32mfrom\u001b[0m \u001b[0mPyQt5\u001b[0m\u001b[1;33m.\u001b[0m\u001b[0mQAxContainer\u001b[0m \u001b[1;32mimport\u001b[0m \u001b[1;33m*\u001b[0m\u001b[1;33m\u001b[0m\u001b[1;33m\u001b[0m\u001b[0m\n\u001b[0m\u001b[0;32m      2\u001b[0m \u001b[1;32mfrom\u001b[0m \u001b[0mPyQt5\u001b[0m\u001b[1;33m.\u001b[0m\u001b[0mQtCore\u001b[0m \u001b[1;32mimport\u001b[0m \u001b[1;33m*\u001b[0m\u001b[1;33m\u001b[0m\u001b[1;33m\u001b[0m\u001b[0m\n\u001b[0;32m      3\u001b[0m \u001b[1;32mimport\u001b[0m \u001b[0mpandas\u001b[0m \u001b[1;32mas\u001b[0m \u001b[0mpd\u001b[0m\u001b[1;33m\u001b[0m\u001b[1;33m\u001b[0m\u001b[0m\n\u001b[0;32m      4\u001b[0m \u001b[1;32mimport\u001b[0m \u001b[0mDb\u001b[0m\u001b[1;33m\u001b[0m\u001b[1;33m\u001b[0m\u001b[0m\n\u001b[0;32m      5\u001b[0m \u001b[1;32mimport\u001b[0m \u001b[0mtime\u001b[0m\u001b[1;33m\u001b[0m\u001b[1;33m\u001b[0m\u001b[0m\n",
      "\u001b[1;31mModuleNotFoundError\u001b[0m: No module named 'PyQt5.QAxContainer'"
     ]
    }
   ],
   "source": [
    "from PyQt5.QAxContainer import *\n",
    "from PyQt5.QtCore import *\n",
    "import pandas as pd\n",
    "import Db\n",
    "import time\n",
    "\n",
    "\n",
    "class Stock(QAxWidget):\n",
    "    def __init__(self):\n",
    "        super().__init__()\n",
    "        self.db = Db.StockDb()\n",
    "        self.db.open_Db()\n",
    "\n",
    "        self._create_kiwoom_instance()\n",
    "        self._set_signal_slots()\n",
    "\n",
    "    # COM을 사용하기 위한 메서드\n",
    "    def _create_kiwoom_instance(self):\n",
    "        self.setControl(\"KHOPENAPI.KHOpenAPICtrl.1\")\n",
    "\n",
    "    def _set_signal_slots(self):\n",
    "        # 로그인할 시 OnEventConnect 이벤트 발생\n",
    "        self.OnEventConnect.connect(self._event_connect)\n",
    "        # tr후 이벤트 발생\n",
    "        self.OnReceiveTrData.connect(self._receive_tr_data)\n",
    "\n",
    "    # 로그인 메서드, 로그인 과정에서 프로그램이 진행되면 안 되기 때문에\n",
    "    # 이벤트 루프 생성\n",
    "    def comm_connect(self):\n",
    "        self.dynamicCall(\"CommConnect()\")\n",
    "        self.login_event_loop = QEventLoop()\n",
    "        self.login_event_loop.exec_()\n",
    "\n",
    "    # 로그인 성공 여부 메서드\n",
    "    def _event_connect(self, err_code):\n",
    "        if err_code == 0:\n",
    "            print(\"connected\")\n",
    "        else:\n",
    "            print(\"disconnected\")\n",
    "        self.login_event_loop.exit()\n",
    "\n",
    "    # tr 입력값을 서버 통신 전에 입력\n",
    "    # ex. SetInputValue(\"종목코드\",\"000660\")\n",
    "    def set_input_value(self,id,value):\n",
    "        self.dynamicCall(\"SetInputValue(QString,QString)\", id, value)\n",
    "\n",
    "    # tr을 서버에 전송한다\n",
    "    def comm_rq_data(self, rqname, trcode, next, screen_no):\n",
    "        self.dynamicCall(\"CommRqData(QString, QString, int, QString)\", rqname, trcode, next, screen_no)\n",
    "        self.tr_event_loop = QEventLoop()\n",
    "        self.tr_event_loop.exec_()\n",
    "\n",
    "    # 서버한테 받은 데이터를 반환한다.\n",
    "    def _comm_get_data(self, code, real_type, field_name, index, item_name):\n",
    "        ret = self.dynamicCall(\"CommGetData(QString, QString, QString, int, QString)\", code,\n",
    "                               real_type, field_name, index, item_name)\n",
    "        return ret.strip()\n",
    "\n",
    "    # 서버한테 받은 데이터의 갯수를 반환한다.\n",
    "    def _get_repeat_cnt(self, trcode, rqname):\n",
    "        ret = self.dynamicCall(\"GetRepeatCnt(QString, QString)\", trcode, rqname)\n",
    "        return ret\n",
    "\n",
    "    def _receive_tr_data(self, screen_no, rqname, trcode, record_name, next, unused1, unused2, unused3, unused4):\n",
    "        print(\"receive_tr_data call\")\n",
    "        if next == '2':\n",
    "            self.remained_data = True\n",
    "        else:\n",
    "            self.remained_data = False\n",
    "\n",
    "        if rqname == \"opt10080_req\":\n",
    "            self._opt10080(rqname, trcode)\n",
    "        elif rqname == \"opt10081_req\":\n",
    "            self._opt10081(rqname, trcode)\n",
    "\n",
    "        try:\n",
    "            self.tr_event_loop.exit()\n",
    "        except AttributeError:\n",
    "            pass\n",
    "\n",
    "    # KODEX 코스닥 150 레버리지 종목의 분봉 데이터를 요청한다.\n",
    "    # 약 100일치 분봉 데이터를 요청한다.\n",
    "    def req_minute_data(self):\n",
    "        self.set_input_value(\"종목코드\",\"233740\")\n",
    "        self.set_input_value(\"틱범위\", 1)\n",
    "        self.set_input_value(\"수정주가구분\", 0)\n",
    "        self.comm_rq_data(\"opt10080_req\", \"opt10080\", 0, \"1999\")\n",
    "\n",
    "        for i in range(50):\n",
    "            time.sleep(0.2)\n",
    "            self.set_input_value(\"종목코드\", \"233740\")\n",
    "            self.set_input_value(\"틱범위\", 1)\n",
    "            self.set_input_value(\"수정주가구분\", 0)\n",
    "            self.comm_rq_data(\"opt10080_req\", \"opt10080\", 2, \"1999\")\n",
    "\n",
    "        print(\"코스닥 레버리지 분봉 데이터 저장 성공\")\n",
    "\n",
    "    # KODEX 코스닥 150 레버리지 종목의 일봉 데이터를 요청한다.\n",
    "    def req_day_data(self):\n",
    "        self.set_input_value(\"종목코드\",\"233740\")\n",
    "        self.set_input_value(\"기준일자\", \"20171108\")\n",
    "        self.set_input_value(\"수정주가구분\",0)\n",
    "        self.comm_rq_data(\"opt10081_req\", \"opt10081\",0,\"2000\")\n",
    "\n",
    "        print(\"코스닥 레버리지 일봉 데이터 저장 성공\")\n",
    "\n",
    "    # 서버에게 받은 분봉 데이터를 kosdaq_leve 테이블에 저장한다.\n",
    "    # 또한 kosdaq_start 테이블에 매일 시가 정보를 저장한다.\n",
    "    def _opt10080(self,rqname,trcode):\n",
    "        data_cnt = self._get_repeat_cnt(trcode,rqname)\n",
    "        for i in range(data_cnt):\n",
    "            print(\"분봉 데이터 저장중\")\n",
    "            day = self._comm_get_data(trcode, \"\",rqname, i, \"체결시간\")\n",
    "            high = self._comm_get_data(trcode, \"\", rqname, i, \"현재가\")\n",
    "            low = self._comm_get_data(trcode, \"\", rqname, i, \"저가\")\n",
    "            if(high[0] == '-'):\n",
    "                high = high[1:]\n",
    "            if(low[0] == '-'):\n",
    "                low = low[1:]\n",
    "            self.db.insert_Leve(day,int(high),int(low))\n",
    "            #self.db.insert_Leve(day, abs(int(high)), abs(int(low)))\n",
    "\n",
    "            if day[8:] == \"090000\":\n",
    "                start = self._comm_get_data(trcode, \"\",rqname, i, \"시가\")\n",
    "                if(start[0] == '-'):\n",
    "                    start = start[1:]\n",
    "                self.db.insert_Start(day,int(start))\n",
    "                #self.db.insert_Start(day,abs(int(start)))\n",
    "\n",
    "        self.db.con.commit()\n",
    "\n",
    "    # 서버에게 받은 일봉 데이터를 DB에 저장한다.\n",
    "    def _opt10081(self,rqname, trcode):\n",
    "        for i in range(150):\n",
    "            print(\"일봉 데이터 저장중\")\n",
    "            day = self._comm_get_data(trcode, \"\",rqname, i, \"일자\")\n",
    "            end = self._comm_get_data(trcode, \"\",rqname, i,\"현재가\")\n",
    "            start = self._comm_get_data(trcode, \"\",rqname, i,\"시가\")\n",
    "            self.db.insert_Leve_Day(day,start,end)\n",
    "        self.db.commit()\n",
    "\n",
    "\n",
    "\n",
    "\n",
    "if __name__ == \"__main__\":\n",
    "    stock = Stock()\n",
    "    stock.comm_connect()\n",
    "    stock.req_minute_data()\n",
    "    stock.req_day_data()"
   ]
  },
  {
   "cell_type": "code",
   "execution_count": null,
   "metadata": {},
   "outputs": [],
   "source": []
  },
  {
   "cell_type": "code",
   "execution_count": null,
   "metadata": {},
   "outputs": [],
   "source": []
  },
  {
   "cell_type": "code",
   "execution_count": null,
   "metadata": {},
   "outputs": [],
   "source": []
  },
  {
   "cell_type": "code",
   "execution_count": null,
   "metadata": {},
   "outputs": [],
   "source": []
  },
  {
   "cell_type": "code",
   "execution_count": null,
   "metadata": {},
   "outputs": [],
   "source": []
  },
  {
   "cell_type": "code",
   "execution_count": 13,
   "metadata": {},
   "outputs": [
    {
     "ename": "ValueError",
     "evalue": "No tables found",
     "output_type": "error",
     "traceback": [
      "\u001b[1;31m---------------------------------------------------------------------------\u001b[0m",
      "\u001b[1;31mValueError\u001b[0m                                Traceback (most recent call last)",
      "\u001b[1;32m<ipython-input-13-e6b7f7686de4>\u001b[0m in \u001b[0;36m<module>\u001b[1;34m\u001b[0m\n\u001b[0;32m      3\u001b[0m \u001b[1;32mfor\u001b[0m \u001b[0mpage\u001b[0m \u001b[1;32min\u001b[0m \u001b[0mrange\u001b[0m\u001b[1;33m(\u001b[0m\u001b[1;36m1\u001b[0m\u001b[1;33m,\u001b[0m \u001b[1;36m41\u001b[0m\u001b[1;33m)\u001b[0m\u001b[1;33m:\u001b[0m\u001b[1;33m\u001b[0m\u001b[1;33m\u001b[0m\u001b[0m\n\u001b[0;32m      4\u001b[0m     \u001b[0mpg_url\u001b[0m \u001b[1;33m=\u001b[0m \u001b[1;34m'{url}&page={page}'\u001b[0m\u001b[1;33m.\u001b[0m\u001b[0mformat\u001b[0m\u001b[1;33m(\u001b[0m\u001b[0murl\u001b[0m\u001b[1;33m=\u001b[0m\u001b[0murl\u001b[0m\u001b[1;33m,\u001b[0m \u001b[0mpage\u001b[0m\u001b[1;33m=\u001b[0m\u001b[0mpage\u001b[0m\u001b[1;33m)\u001b[0m\u001b[1;33m\u001b[0m\u001b[1;33m\u001b[0m\u001b[0m\n\u001b[1;32m----> 5\u001b[1;33m     \u001b[0mdf\u001b[0m \u001b[1;33m=\u001b[0m \u001b[0mdf\u001b[0m\u001b[1;33m.\u001b[0m\u001b[0mappend\u001b[0m\u001b[1;33m(\u001b[0m\u001b[0mpd\u001b[0m\u001b[1;33m.\u001b[0m\u001b[0mread_html\u001b[0m\u001b[1;33m(\u001b[0m\u001b[0mpg_url\u001b[0m\u001b[1;33m,\u001b[0m \u001b[0mheader\u001b[0m\u001b[1;33m=\u001b[0m\u001b[1;36m0\u001b[0m\u001b[1;33m)\u001b[0m\u001b[1;33m[\u001b[0m\u001b[1;36m0\u001b[0m\u001b[1;33m]\u001b[0m\u001b[1;33m,\u001b[0m \u001b[0mignore_index\u001b[0m\u001b[1;33m=\u001b[0m\u001b[1;32mTrue\u001b[0m\u001b[1;33m)\u001b[0m\u001b[1;33m\u001b[0m\u001b[1;33m\u001b[0m\u001b[0m\n\u001b[0m",
      "\u001b[1;32m~\\anaconda3\\lib\\site-packages\\pandas\\util\\_decorators.py\u001b[0m in \u001b[0;36mwrapper\u001b[1;34m(*args, **kwargs)\u001b[0m\n\u001b[0;32m    294\u001b[0m                 )\n\u001b[0;32m    295\u001b[0m                 \u001b[0mwarnings\u001b[0m\u001b[1;33m.\u001b[0m\u001b[0mwarn\u001b[0m\u001b[1;33m(\u001b[0m\u001b[0mmsg\u001b[0m\u001b[1;33m,\u001b[0m \u001b[0mFutureWarning\u001b[0m\u001b[1;33m,\u001b[0m \u001b[0mstacklevel\u001b[0m\u001b[1;33m=\u001b[0m\u001b[0mstacklevel\u001b[0m\u001b[1;33m)\u001b[0m\u001b[1;33m\u001b[0m\u001b[1;33m\u001b[0m\u001b[0m\n\u001b[1;32m--> 296\u001b[1;33m             \u001b[1;32mreturn\u001b[0m \u001b[0mfunc\u001b[0m\u001b[1;33m(\u001b[0m\u001b[1;33m*\u001b[0m\u001b[0margs\u001b[0m\u001b[1;33m,\u001b[0m \u001b[1;33m**\u001b[0m\u001b[0mkwargs\u001b[0m\u001b[1;33m)\u001b[0m\u001b[1;33m\u001b[0m\u001b[1;33m\u001b[0m\u001b[0m\n\u001b[0m\u001b[0;32m    297\u001b[0m \u001b[1;33m\u001b[0m\u001b[0m\n\u001b[0;32m    298\u001b[0m         \u001b[1;32mreturn\u001b[0m \u001b[0mwrapper\u001b[0m\u001b[1;33m\u001b[0m\u001b[1;33m\u001b[0m\u001b[0m\n",
      "\u001b[1;32m~\\anaconda3\\lib\\site-packages\\pandas\\io\\html.py\u001b[0m in \u001b[0;36mread_html\u001b[1;34m(io, match, flavor, header, index_col, skiprows, attrs, parse_dates, thousands, encoding, decimal, converters, na_values, keep_default_na, displayed_only)\u001b[0m\n\u001b[0;32m   1084\u001b[0m         )\n\u001b[0;32m   1085\u001b[0m     \u001b[0mvalidate_header_arg\u001b[0m\u001b[1;33m(\u001b[0m\u001b[0mheader\u001b[0m\u001b[1;33m)\u001b[0m\u001b[1;33m\u001b[0m\u001b[1;33m\u001b[0m\u001b[0m\n\u001b[1;32m-> 1086\u001b[1;33m     return _parse(\n\u001b[0m\u001b[0;32m   1087\u001b[0m         \u001b[0mflavor\u001b[0m\u001b[1;33m=\u001b[0m\u001b[0mflavor\u001b[0m\u001b[1;33m,\u001b[0m\u001b[1;33m\u001b[0m\u001b[1;33m\u001b[0m\u001b[0m\n\u001b[0;32m   1088\u001b[0m         \u001b[0mio\u001b[0m\u001b[1;33m=\u001b[0m\u001b[0mio\u001b[0m\u001b[1;33m,\u001b[0m\u001b[1;33m\u001b[0m\u001b[1;33m\u001b[0m\u001b[0m\n",
      "\u001b[1;32m~\\anaconda3\\lib\\site-packages\\pandas\\io\\html.py\u001b[0m in \u001b[0;36m_parse\u001b[1;34m(flavor, io, match, attrs, encoding, displayed_only, **kwargs)\u001b[0m\n\u001b[0;32m    915\u001b[0m             \u001b[1;32mbreak\u001b[0m\u001b[1;33m\u001b[0m\u001b[1;33m\u001b[0m\u001b[0m\n\u001b[0;32m    916\u001b[0m     \u001b[1;32melse\u001b[0m\u001b[1;33m:\u001b[0m\u001b[1;33m\u001b[0m\u001b[1;33m\u001b[0m\u001b[0m\n\u001b[1;32m--> 917\u001b[1;33m         \u001b[1;32mraise\u001b[0m \u001b[0mretained\u001b[0m\u001b[1;33m\u001b[0m\u001b[1;33m\u001b[0m\u001b[0m\n\u001b[0m\u001b[0;32m    918\u001b[0m \u001b[1;33m\u001b[0m\u001b[0m\n\u001b[0;32m    919\u001b[0m     \u001b[0mret\u001b[0m \u001b[1;33m=\u001b[0m \u001b[1;33m[\u001b[0m\u001b[1;33m]\u001b[0m\u001b[1;33m\u001b[0m\u001b[1;33m\u001b[0m\u001b[0m\n",
      "\u001b[1;32m~\\anaconda3\\lib\\site-packages\\pandas\\io\\html.py\u001b[0m in \u001b[0;36m_parse\u001b[1;34m(flavor, io, match, attrs, encoding, displayed_only, **kwargs)\u001b[0m\n\u001b[0;32m    896\u001b[0m \u001b[1;33m\u001b[0m\u001b[0m\n\u001b[0;32m    897\u001b[0m         \u001b[1;32mtry\u001b[0m\u001b[1;33m:\u001b[0m\u001b[1;33m\u001b[0m\u001b[1;33m\u001b[0m\u001b[0m\n\u001b[1;32m--> 898\u001b[1;33m             \u001b[0mtables\u001b[0m \u001b[1;33m=\u001b[0m \u001b[0mp\u001b[0m\u001b[1;33m.\u001b[0m\u001b[0mparse_tables\u001b[0m\u001b[1;33m(\u001b[0m\u001b[1;33m)\u001b[0m\u001b[1;33m\u001b[0m\u001b[1;33m\u001b[0m\u001b[0m\n\u001b[0m\u001b[0;32m    899\u001b[0m         \u001b[1;32mexcept\u001b[0m \u001b[0mValueError\u001b[0m \u001b[1;32mas\u001b[0m \u001b[0mcaught\u001b[0m\u001b[1;33m:\u001b[0m\u001b[1;33m\u001b[0m\u001b[1;33m\u001b[0m\u001b[0m\n\u001b[0;32m    900\u001b[0m             \u001b[1;31m# if `io` is an io-like object, check if it's seekable\u001b[0m\u001b[1;33m\u001b[0m\u001b[1;33m\u001b[0m\u001b[1;33m\u001b[0m\u001b[0m\n",
      "\u001b[1;32m~\\anaconda3\\lib\\site-packages\\pandas\\io\\html.py\u001b[0m in \u001b[0;36mparse_tables\u001b[1;34m(self)\u001b[0m\n\u001b[0;32m    215\u001b[0m         \u001b[0mlist\u001b[0m \u001b[0mof\u001b[0m \u001b[0mparsed\u001b[0m \u001b[1;33m(\u001b[0m\u001b[0mheader\u001b[0m\u001b[1;33m,\u001b[0m \u001b[0mbody\u001b[0m\u001b[1;33m,\u001b[0m \u001b[0mfooter\u001b[0m\u001b[1;33m)\u001b[0m \u001b[0mtuples\u001b[0m \u001b[1;32mfrom\u001b[0m \u001b[0mtables\u001b[0m\u001b[1;33m.\u001b[0m\u001b[1;33m\u001b[0m\u001b[1;33m\u001b[0m\u001b[0m\n\u001b[0;32m    216\u001b[0m         \"\"\"\n\u001b[1;32m--> 217\u001b[1;33m         \u001b[0mtables\u001b[0m \u001b[1;33m=\u001b[0m \u001b[0mself\u001b[0m\u001b[1;33m.\u001b[0m\u001b[0m_parse_tables\u001b[0m\u001b[1;33m(\u001b[0m\u001b[0mself\u001b[0m\u001b[1;33m.\u001b[0m\u001b[0m_build_doc\u001b[0m\u001b[1;33m(\u001b[0m\u001b[1;33m)\u001b[0m\u001b[1;33m,\u001b[0m \u001b[0mself\u001b[0m\u001b[1;33m.\u001b[0m\u001b[0mmatch\u001b[0m\u001b[1;33m,\u001b[0m \u001b[0mself\u001b[0m\u001b[1;33m.\u001b[0m\u001b[0mattrs\u001b[0m\u001b[1;33m)\u001b[0m\u001b[1;33m\u001b[0m\u001b[1;33m\u001b[0m\u001b[0m\n\u001b[0m\u001b[0;32m    218\u001b[0m         \u001b[1;32mreturn\u001b[0m \u001b[1;33m(\u001b[0m\u001b[0mself\u001b[0m\u001b[1;33m.\u001b[0m\u001b[0m_parse_thead_tbody_tfoot\u001b[0m\u001b[1;33m(\u001b[0m\u001b[0mtable\u001b[0m\u001b[1;33m)\u001b[0m \u001b[1;32mfor\u001b[0m \u001b[0mtable\u001b[0m \u001b[1;32min\u001b[0m \u001b[0mtables\u001b[0m\u001b[1;33m)\u001b[0m\u001b[1;33m\u001b[0m\u001b[1;33m\u001b[0m\u001b[0m\n\u001b[0;32m    219\u001b[0m \u001b[1;33m\u001b[0m\u001b[0m\n",
      "\u001b[1;32m~\\anaconda3\\lib\\site-packages\\pandas\\io\\html.py\u001b[0m in \u001b[0;36m_parse_tables\u001b[1;34m(self, doc, match, attrs)\u001b[0m\n\u001b[0;32m    545\u001b[0m \u001b[1;33m\u001b[0m\u001b[0m\n\u001b[0;32m    546\u001b[0m         \u001b[1;32mif\u001b[0m \u001b[1;32mnot\u001b[0m \u001b[0mtables\u001b[0m\u001b[1;33m:\u001b[0m\u001b[1;33m\u001b[0m\u001b[1;33m\u001b[0m\u001b[0m\n\u001b[1;32m--> 547\u001b[1;33m             \u001b[1;32mraise\u001b[0m \u001b[0mValueError\u001b[0m\u001b[1;33m(\u001b[0m\u001b[1;34m\"No tables found\"\u001b[0m\u001b[1;33m)\u001b[0m\u001b[1;33m\u001b[0m\u001b[1;33m\u001b[0m\u001b[0m\n\u001b[0m\u001b[0;32m    548\u001b[0m \u001b[1;33m\u001b[0m\u001b[0m\n\u001b[0;32m    549\u001b[0m         \u001b[0mresult\u001b[0m \u001b[1;33m=\u001b[0m \u001b[1;33m[\u001b[0m\u001b[1;33m]\u001b[0m\u001b[1;33m\u001b[0m\u001b[1;33m\u001b[0m\u001b[0m\n",
      "\u001b[1;31mValueError\u001b[0m: No tables found"
     ]
    }
   ],
   "source": [
    "url='http://finance.naver.com/item/sise_time.nhn?code=272450&thistime=2018041216'\n",
    "df=pd.DataFrame()\n",
    "for page in range(1, 41):\n",
    "    pg_url = '{url}&page={page}'.format(url=url, page=page)\n",
    "    df = df.append(pd.read_html(pg_url, header=0)[0], ignore_index=True)"
   ]
  },
  {
   "cell_type": "code",
   "execution_count": null,
   "metadata": {},
   "outputs": [],
   "source": []
  },
  {
   "cell_type": "code",
   "execution_count": null,
   "metadata": {},
   "outputs": [],
   "source": []
  },
  {
   "cell_type": "code",
   "execution_count": null,
   "metadata": {},
   "outputs": [],
   "source": []
  },
  {
   "cell_type": "code",
   "execution_count": 15,
   "metadata": {},
   "outputs": [],
   "source": [
    "import pandas_datareader.data as pdr"
   ]
  },
  {
   "cell_type": "code",
   "execution_count": 16,
   "metadata": {},
   "outputs": [],
   "source": [
    "import datetime"
   ]
  },
  {
   "cell_type": "code",
   "execution_count": 19,
   "metadata": {},
   "outputs": [],
   "source": [
    "test_time = datetime.datetime(2010,1,1,9,0)"
   ]
  },
  {
   "cell_type": "code",
   "execution_count": 20,
   "metadata": {},
   "outputs": [
    {
     "data": {
      "text/plain": [
       "datetime.datetime(2010, 1, 1, 9, 0)"
      ]
     },
     "execution_count": 20,
     "metadata": {},
     "output_type": "execute_result"
    }
   ],
   "source": [
    "test_time"
   ]
  },
  {
   "cell_type": "code",
   "execution_count": 21,
   "metadata": {},
   "outputs": [],
   "source": [
    "end = datetime.datetime(2020, 12, 31, 16, 0)"
   ]
  },
  {
   "cell_type": "code",
   "execution_count": 27,
   "metadata": {},
   "outputs": [],
   "source": [
    "test = pdr.DataReader('267250.KS', 'yahoo', test_time, end)"
   ]
  },
  {
   "cell_type": "code",
   "execution_count": 23,
   "metadata": {},
   "outputs": [
    {
     "data": {
      "text/html": [
       "<div>\n",
       "<style scoped>\n",
       "    .dataframe tbody tr th:only-of-type {\n",
       "        vertical-align: middle;\n",
       "    }\n",
       "\n",
       "    .dataframe tbody tr th {\n",
       "        vertical-align: top;\n",
       "    }\n",
       "\n",
       "    .dataframe thead th {\n",
       "        text-align: right;\n",
       "    }\n",
       "</style>\n",
       "<table border=\"1\" class=\"dataframe\">\n",
       "  <thead>\n",
       "    <tr style=\"text-align: right;\">\n",
       "      <th></th>\n",
       "      <th>High</th>\n",
       "      <th>Low</th>\n",
       "      <th>Open</th>\n",
       "      <th>Close</th>\n",
       "      <th>Volume</th>\n",
       "      <th>Adj Close</th>\n",
       "    </tr>\n",
       "    <tr>\n",
       "      <th>Date</th>\n",
       "      <th></th>\n",
       "      <th></th>\n",
       "      <th></th>\n",
       "      <th></th>\n",
       "      <th></th>\n",
       "      <th></th>\n",
       "    </tr>\n",
       "  </thead>\n",
       "  <tbody>\n",
       "    <tr>\n",
       "      <th>2017-05-10</th>\n",
       "      <td>452500.0</td>\n",
       "      <td>367000.0</td>\n",
       "      <td>411500.0</td>\n",
       "      <td>390000.0</td>\n",
       "      <td>756348.0</td>\n",
       "      <td>330386.12500</td>\n",
       "    </tr>\n",
       "    <tr>\n",
       "      <th>2017-05-11</th>\n",
       "      <td>395000.0</td>\n",
       "      <td>378000.0</td>\n",
       "      <td>382500.0</td>\n",
       "      <td>387500.0</td>\n",
       "      <td>239477.0</td>\n",
       "      <td>328268.28125</td>\n",
       "    </tr>\n",
       "    <tr>\n",
       "      <th>2017-05-12</th>\n",
       "      <td>395500.0</td>\n",
       "      <td>373000.0</td>\n",
       "      <td>389500.0</td>\n",
       "      <td>379500.0</td>\n",
       "      <td>141833.0</td>\n",
       "      <td>321491.12500</td>\n",
       "    </tr>\n",
       "    <tr>\n",
       "      <th>2017-05-15</th>\n",
       "      <td>378500.0</td>\n",
       "      <td>360500.0</td>\n",
       "      <td>377500.0</td>\n",
       "      <td>360500.0</td>\n",
       "      <td>159155.0</td>\n",
       "      <td>305395.40625</td>\n",
       "    </tr>\n",
       "    <tr>\n",
       "      <th>2017-05-16</th>\n",
       "      <td>362500.0</td>\n",
       "      <td>329000.0</td>\n",
       "      <td>360500.0</td>\n",
       "      <td>347500.0</td>\n",
       "      <td>339657.0</td>\n",
       "      <td>294382.50000</td>\n",
       "    </tr>\n",
       "  </tbody>\n",
       "</table>\n",
       "</div>"
      ],
      "text/plain": [
       "                High       Low      Open     Close    Volume     Adj Close\n",
       "Date                                                                      \n",
       "2017-05-10  452500.0  367000.0  411500.0  390000.0  756348.0  330386.12500\n",
       "2017-05-11  395000.0  378000.0  382500.0  387500.0  239477.0  328268.28125\n",
       "2017-05-12  395500.0  373000.0  389500.0  379500.0  141833.0  321491.12500\n",
       "2017-05-15  378500.0  360500.0  377500.0  360500.0  159155.0  305395.40625\n",
       "2017-05-16  362500.0  329000.0  360500.0  347500.0  339657.0  294382.50000"
      ]
     },
     "execution_count": 23,
     "metadata": {},
     "output_type": "execute_result"
    }
   ],
   "source": [
    "test.head()"
   ]
  },
  {
   "cell_type": "code",
   "execution_count": 24,
   "metadata": {},
   "outputs": [
    {
     "data": {
      "text/html": [
       "<div>\n",
       "<style scoped>\n",
       "    .dataframe tbody tr th:only-of-type {\n",
       "        vertical-align: middle;\n",
       "    }\n",
       "\n",
       "    .dataframe tbody tr th {\n",
       "        vertical-align: top;\n",
       "    }\n",
       "\n",
       "    .dataframe thead th {\n",
       "        text-align: right;\n",
       "    }\n",
       "</style>\n",
       "<table border=\"1\" class=\"dataframe\">\n",
       "  <thead>\n",
       "    <tr style=\"text-align: right;\">\n",
       "      <th></th>\n",
       "      <th>High</th>\n",
       "      <th>Low</th>\n",
       "      <th>Open</th>\n",
       "      <th>Close</th>\n",
       "      <th>Volume</th>\n",
       "      <th>Adj Close</th>\n",
       "    </tr>\n",
       "    <tr>\n",
       "      <th>Date</th>\n",
       "      <th></th>\n",
       "      <th></th>\n",
       "      <th></th>\n",
       "      <th></th>\n",
       "      <th></th>\n",
       "      <th></th>\n",
       "    </tr>\n",
       "  </thead>\n",
       "  <tbody>\n",
       "    <tr>\n",
       "      <th>2020-12-23</th>\n",
       "      <td>311500.0</td>\n",
       "      <td>298000.0</td>\n",
       "      <td>310000.0</td>\n",
       "      <td>305000.0</td>\n",
       "      <td>75074.0</td>\n",
       "      <td>287284.12500</td>\n",
       "    </tr>\n",
       "    <tr>\n",
       "      <th>2020-12-24</th>\n",
       "      <td>313500.0</td>\n",
       "      <td>304000.0</td>\n",
       "      <td>307000.0</td>\n",
       "      <td>313500.0</td>\n",
       "      <td>61431.0</td>\n",
       "      <td>295290.40625</td>\n",
       "    </tr>\n",
       "    <tr>\n",
       "      <th>2020-12-28</th>\n",
       "      <td>319000.0</td>\n",
       "      <td>314000.0</td>\n",
       "      <td>318500.0</td>\n",
       "      <td>318500.0</td>\n",
       "      <td>148954.0</td>\n",
       "      <td>300000.00000</td>\n",
       "    </tr>\n",
       "    <tr>\n",
       "      <th>2020-12-29</th>\n",
       "      <td>304500.0</td>\n",
       "      <td>289000.0</td>\n",
       "      <td>300500.0</td>\n",
       "      <td>290500.0</td>\n",
       "      <td>211631.0</td>\n",
       "      <td>290500.00000</td>\n",
       "    </tr>\n",
       "    <tr>\n",
       "      <th>2020-12-30</th>\n",
       "      <td>290000.0</td>\n",
       "      <td>280500.0</td>\n",
       "      <td>290000.0</td>\n",
       "      <td>283500.0</td>\n",
       "      <td>139319.0</td>\n",
       "      <td>283500.00000</td>\n",
       "    </tr>\n",
       "  </tbody>\n",
       "</table>\n",
       "</div>"
      ],
      "text/plain": [
       "                High       Low      Open     Close    Volume     Adj Close\n",
       "Date                                                                      \n",
       "2020-12-23  311500.0  298000.0  310000.0  305000.0   75074.0  287284.12500\n",
       "2020-12-24  313500.0  304000.0  307000.0  313500.0   61431.0  295290.40625\n",
       "2020-12-28  319000.0  314000.0  318500.0  318500.0  148954.0  300000.00000\n",
       "2020-12-29  304500.0  289000.0  300500.0  290500.0  211631.0  290500.00000\n",
       "2020-12-30  290000.0  280500.0  290000.0  283500.0  139319.0  283500.00000"
      ]
     },
     "execution_count": 24,
     "metadata": {},
     "output_type": "execute_result"
    }
   ],
   "source": [
    "test.tail()"
   ]
  },
  {
   "cell_type": "code",
   "execution_count": 28,
   "metadata": {},
   "outputs": [],
   "source": [
    "?pdr.DataReader"
   ]
  },
  {
   "cell_type": "code",
   "execution_count": null,
   "metadata": {},
   "outputs": [],
   "source": []
  },
  {
   "cell_type": "code",
   "execution_count": null,
   "metadata": {},
   "outputs": [],
   "source": []
  },
  {
   "cell_type": "code",
   "execution_count": null,
   "metadata": {},
   "outputs": [],
   "source": [
    "body > table.type2 > tbody > tr:nth-child(3) > td:nth-child(2) > span"
   ]
  },
  {
   "cell_type": "code",
   "execution_count": null,
   "metadata": {},
   "outputs": [],
   "source": []
  },
  {
   "cell_type": "code",
   "execution_count": null,
   "metadata": {},
   "outputs": [],
   "source": []
  },
  {
   "cell_type": "code",
   "execution_count": 1,
   "metadata": {},
   "outputs": [],
   "source": [
    "import pandas as pd"
   ]
  },
  {
   "cell_type": "code",
   "execution_count": 4,
   "metadata": {},
   "outputs": [],
   "source": [
    "stock_list = pd.read_csv('상장법인목록.csv')"
   ]
  },
  {
   "cell_type": "code",
   "execution_count": 5,
   "metadata": {},
   "outputs": [
    {
     "data": {
      "text/html": [
       "<div>\n",
       "<style scoped>\n",
       "    .dataframe tbody tr th:only-of-type {\n",
       "        vertical-align: middle;\n",
       "    }\n",
       "\n",
       "    .dataframe tbody tr th {\n",
       "        vertical-align: top;\n",
       "    }\n",
       "\n",
       "    .dataframe thead th {\n",
       "        text-align: right;\n",
       "    }\n",
       "</style>\n",
       "<table border=\"1\" class=\"dataframe\">\n",
       "  <thead>\n",
       "    <tr style=\"text-align: right;\">\n",
       "      <th></th>\n",
       "      <th>회사명</th>\n",
       "      <th>종목코드</th>\n",
       "      <th>업종</th>\n",
       "      <th>주요제품</th>\n",
       "      <th>상장일</th>\n",
       "      <th>결산월</th>\n",
       "      <th>대표자명</th>\n",
       "      <th>홈페이지</th>\n",
       "      <th>지역</th>\n",
       "    </tr>\n",
       "  </thead>\n",
       "  <tbody>\n",
       "    <tr>\n",
       "      <th>0</th>\n",
       "      <td>나노씨엠에스</td>\n",
       "      <td>247660</td>\n",
       "      <td>전자부품 제조업</td>\n",
       "      <td>근적외선 흡수/반사 안료, 자외선 유기형광 안료, 적외선 발광체</td>\n",
       "      <td>2021-03-09</td>\n",
       "      <td>12월</td>\n",
       "      <td>김시석</td>\n",
       "      <td>http://www.nanocms.co.kr</td>\n",
       "      <td>충청남도</td>\n",
       "    </tr>\n",
       "    <tr>\n",
       "      <th>1</th>\n",
       "      <td>하나머스트7호스팩</td>\n",
       "      <td>372290</td>\n",
       "      <td>금융 지원 서비스업</td>\n",
       "      <td>기업인수목적</td>\n",
       "      <td>2021-03-05</td>\n",
       "      <td>12월</td>\n",
       "      <td>곽제훈</td>\n",
       "      <td>NaN</td>\n",
       "      <td>서울특별시</td>\n",
       "    </tr>\n",
       "    <tr>\n",
       "      <th>2</th>\n",
       "      <td>IBKS제15호스팩</td>\n",
       "      <td>373200</td>\n",
       "      <td>금융 지원 서비스업</td>\n",
       "      <td>기업 인수 합병</td>\n",
       "      <td>2021-02-26</td>\n",
       "      <td>12월</td>\n",
       "      <td>박광열</td>\n",
       "      <td>NaN</td>\n",
       "      <td>서울특별시</td>\n",
       "    </tr>\n",
       "    <tr>\n",
       "      <th>3</th>\n",
       "      <td>뷰노</td>\n",
       "      <td>338220</td>\n",
       "      <td>자료처리, 호스팅, 포털 및 기타 인터넷 정보매개 서비스업</td>\n",
       "      <td>뷰노메드 음성솔루션, 뷰노메드 영상솔루션, 기타 솔루션 등</td>\n",
       "      <td>2021-02-26</td>\n",
       "      <td>12월</td>\n",
       "      <td>김현준</td>\n",
       "      <td>http://www.vuno.co</td>\n",
       "      <td>서울특별시</td>\n",
       "    </tr>\n",
       "    <tr>\n",
       "      <th>4</th>\n",
       "      <td>유일에너테크</td>\n",
       "      <td>340930</td>\n",
       "      <td>특수 목적용 기계 제조업</td>\n",
       "      <td>2차전지 제조장비</td>\n",
       "      <td>2021-02-25</td>\n",
       "      <td>12월</td>\n",
       "      <td>정연길</td>\n",
       "      <td>http://www.youilet.com</td>\n",
       "      <td>경기도</td>\n",
       "    </tr>\n",
       "  </tbody>\n",
       "</table>\n",
       "</div>"
      ],
      "text/plain": [
       "          회사명    종목코드                                업종  \\\n",
       "0      나노씨엠에스  247660                          전자부품 제조업   \n",
       "1   하나머스트7호스팩  372290                        금융 지원 서비스업   \n",
       "2  IBKS제15호스팩  373200                        금융 지원 서비스업   \n",
       "3          뷰노  338220  자료처리, 호스팅, 포털 및 기타 인터넷 정보매개 서비스업   \n",
       "4      유일에너테크  340930                     특수 목적용 기계 제조업   \n",
       "\n",
       "                                  주요제품         상장일  결산월 대표자명  \\\n",
       "0  근적외선 흡수/반사 안료, 자외선 유기형광 안료, 적외선 발광체  2021-03-09  12월  김시석   \n",
       "1                               기업인수목적  2021-03-05  12월  곽제훈   \n",
       "2                             기업 인수 합병  2021-02-26  12월  박광열   \n",
       "3     뷰노메드 음성솔루션, 뷰노메드 영상솔루션, 기타 솔루션 등  2021-02-26  12월  김현준   \n",
       "4                            2차전지 제조장비  2021-02-25  12월  정연길   \n",
       "\n",
       "                       홈페이지     지역  \n",
       "0  http://www.nanocms.co.kr   충청남도  \n",
       "1                       NaN  서울특별시  \n",
       "2                       NaN  서울특별시  \n",
       "3        http://www.vuno.co  서울특별시  \n",
       "4    http://www.youilet.com    경기도  "
      ]
     },
     "execution_count": 5,
     "metadata": {},
     "output_type": "execute_result"
    }
   ],
   "source": [
    "stock_list.head()"
   ]
  },
  {
   "cell_type": "code",
   "execution_count": 10,
   "metadata": {},
   "outputs": [],
   "source": [
    "new_list = stock_list[['회사명', '종목코드', '상장일']]"
   ]
  },
  {
   "cell_type": "code",
   "execution_count": 11,
   "metadata": {},
   "outputs": [
    {
     "ename": "SyntaxError",
     "evalue": "leading zeros in decimal integer literals are not permitted; use an 0o prefix for octal integers (<ipython-input-11-e622f93893d8>, line 1)",
     "output_type": "error",
     "traceback": [
      "\u001b[1;36m  File \u001b[1;32m\"<ipython-input-11-e622f93893d8>\"\u001b[1;36m, line \u001b[1;32m1\u001b[0m\n\u001b[1;33m    new_list['상장일' > 2010-01-01]\u001b[0m\n\u001b[1;37m                           ^\u001b[0m\n\u001b[1;31mSyntaxError\u001b[0m\u001b[1;31m:\u001b[0m leading zeros in decimal integer literals are not permitted; use an 0o prefix for octal integers\n"
     ]
    }
   ],
   "source": [
    "new_list['상장일' > 2010-01-01]"
   ]
  },
  {
   "cell_type": "code",
   "execution_count": 15,
   "metadata": {},
   "outputs": [
    {
     "data": {
      "text/plain": [
       "pandas._libs.tslibs.timestamps.Timestamp"
      ]
     },
     "execution_count": 15,
     "metadata": {},
     "output_type": "execute_result"
    }
   ],
   "source": [
    "type(new_list['상장일'][0])"
   ]
  },
  {
   "cell_type": "code",
   "execution_count": 14,
   "metadata": {},
   "outputs": [
    {
     "name": "stderr",
     "output_type": "stream",
     "text": [
      "<ipython-input-14-f0afee13c458>:1: SettingWithCopyWarning: \n",
      "A value is trying to be set on a copy of a slice from a DataFrame.\n",
      "Try using .loc[row_indexer,col_indexer] = value instead\n",
      "\n",
      "See the caveats in the documentation: https://pandas.pydata.org/pandas-docs/stable/user_guide/indexing.html#returning-a-view-versus-a-copy\n",
      "  new_list['상장일'] = pd.to_datetime(new_list['상장일'], format='%Y-%m-%d')\n"
     ]
    }
   ],
   "source": [
    "new_list['상장일'] = pd.to_datetime(new_list['상장일'], format='%Y-%m-%d')"
   ]
  },
  {
   "cell_type": "code",
   "execution_count": 21,
   "metadata": {},
   "outputs": [],
   "source": [
    "old_stock = new_list[new_list['상장일'] < '2010-1-1']"
   ]
  },
  {
   "cell_type": "code",
   "execution_count": 22,
   "metadata": {},
   "outputs": [
    {
     "data": {
      "text/html": [
       "<div>\n",
       "<style scoped>\n",
       "    .dataframe tbody tr th:only-of-type {\n",
       "        vertical-align: middle;\n",
       "    }\n",
       "\n",
       "    .dataframe tbody tr th {\n",
       "        vertical-align: top;\n",
       "    }\n",
       "\n",
       "    .dataframe thead th {\n",
       "        text-align: right;\n",
       "    }\n",
       "</style>\n",
       "<table border=\"1\" class=\"dataframe\">\n",
       "  <thead>\n",
       "    <tr style=\"text-align: right;\">\n",
       "      <th></th>\n",
       "      <th>회사명</th>\n",
       "      <th>종목코드</th>\n",
       "      <th>상장일</th>\n",
       "    </tr>\n",
       "  </thead>\n",
       "  <tbody>\n",
       "    <tr>\n",
       "      <th>1074</th>\n",
       "      <td>우리들휴브레인</td>\n",
       "      <td>118000</td>\n",
       "      <td>2009-12-30</td>\n",
       "    </tr>\n",
       "    <tr>\n",
       "      <th>1075</th>\n",
       "      <td>글로벌에스엠</td>\n",
       "      <td>900070</td>\n",
       "      <td>2009-12-23</td>\n",
       "    </tr>\n",
       "    <tr>\n",
       "      <th>1076</th>\n",
       "      <td>ITX-AI</td>\n",
       "      <td>99520</td>\n",
       "      <td>2009-12-22</td>\n",
       "    </tr>\n",
       "    <tr>\n",
       "      <th>1077</th>\n",
       "      <td>KPX생명과학</td>\n",
       "      <td>114450</td>\n",
       "      <td>2009-12-22</td>\n",
       "    </tr>\n",
       "    <tr>\n",
       "      <th>1078</th>\n",
       "      <td>디와이피엔에프</td>\n",
       "      <td>104460</td>\n",
       "      <td>2009-12-22</td>\n",
       "    </tr>\n",
       "  </tbody>\n",
       "</table>\n",
       "</div>"
      ],
      "text/plain": [
       "          회사명    종목코드        상장일\n",
       "1074  우리들휴브레인  118000 2009-12-30\n",
       "1075   글로벌에스엠  900070 2009-12-23\n",
       "1076   ITX-AI   99520 2009-12-22\n",
       "1077  KPX생명과학  114450 2009-12-22\n",
       "1078  디와이피엔에프  104460 2009-12-22"
      ]
     },
     "execution_count": 22,
     "metadata": {},
     "output_type": "execute_result"
    }
   ],
   "source": [
    "old_stock.head()"
   ]
  },
  {
   "cell_type": "code",
   "execution_count": 25,
   "metadata": {},
   "outputs": [
    {
     "data": {
      "text/plain": [
       "118000"
      ]
     },
     "execution_count": 25,
     "metadata": {},
     "output_type": "execute_result"
    }
   ],
   "source": [
    "old_stock['종목코드'].iloc[0]"
   ]
  },
  {
   "cell_type": "code",
   "execution_count": 29,
   "metadata": {},
   "outputs": [],
   "source": [
    "code = old_stock['종목코드'].iloc[0]\n",
    "time = 20210309151000"
   ]
  },
  {
   "cell_type": "code",
   "execution_count": 30,
   "metadata": {
    "scrolled": true
   },
   "outputs": [
    {
     "data": {
      "text/plain": [
       "200"
      ]
     },
     "execution_count": 30,
     "metadata": {},
     "output_type": "execute_result"
    }
   ],
   "source": [
    "import requests\n",
    "url = 'http://finance.naver.com/item/sise_time.nhn?code={code}&thistime={time}'.format(code=code, time=time)\n",
    "res = requests.get(url)\n",
    "res.encoding = 'utf-8'\n",
    "res.status_code"
   ]
  },
  {
   "cell_type": "code",
   "execution_count": 31,
   "metadata": {},
   "outputs": [
    {
     "data": {
      "text/plain": [
       "'http://finance.naver.com/item/sise_time.nhn?code=118000&thistime=20210309151000'"
      ]
     },
     "execution_count": 31,
     "metadata": {},
     "output_type": "execute_result"
    }
   ],
   "source": [
    "url"
   ]
  },
  {
   "cell_type": "code",
   "execution_count": 32,
   "metadata": {},
   "outputs": [],
   "source": [
    "from bs4 import BeautifulSoup\n",
    "soap = BeautifulSoup(res.text, 'lxml')"
   ]
  },
  {
   "cell_type": "code",
   "execution_count": 34,
   "metadata": {},
   "outputs": [],
   "source": [
    "el_table_navi = soap.find(\"table\", class_=\"Nnavi\")"
   ]
  },
  {
   "cell_type": "code",
   "execution_count": 39,
   "metadata": {},
   "outputs": [
    {
     "ename": "AttributeError",
     "evalue": "'NoneType' object has no attribute 'find'",
     "output_type": "error",
     "traceback": [
      "\u001b[1;31m---------------------------------------------------------------------------\u001b[0m",
      "\u001b[1;31mAttributeError\u001b[0m                            Traceback (most recent call last)",
      "\u001b[1;32m<ipython-input-39-4180ecd68b9d>\u001b[0m in \u001b[0;36m<module>\u001b[1;34m\u001b[0m\n\u001b[1;32m----> 1\u001b[1;33m \u001b[0mel_td_last\u001b[0m \u001b[1;33m=\u001b[0m \u001b[0mel_table_navi\u001b[0m\u001b[1;33m.\u001b[0m\u001b[0mfind\u001b[0m\u001b[1;33m(\u001b[0m\u001b[1;34m\"td\"\u001b[0m\u001b[1;33m,\u001b[0m \u001b[0mclass_\u001b[0m\u001b[1;33m=\u001b[0m\u001b[1;34m\"pgR\"\u001b[0m\u001b[1;33m)\u001b[0m\u001b[1;33m\u001b[0m\u001b[1;33m\u001b[0m\u001b[0m\n\u001b[0m",
      "\u001b[1;31mAttributeError\u001b[0m: 'NoneType' object has no attribute 'find'"
     ]
    }
   ],
   "source": [
    "el_td_last = el_table_navi.find(\"td\", class_=\"pgR\")"
   ]
  },
  {
   "cell_type": "code",
   "execution_count": 37,
   "metadata": {},
   "outputs": [],
   "source": [
    "el_td_last = 41"
   ]
  },
  {
   "cell_type": "code",
   "execution_count": 38,
   "metadata": {},
   "outputs": [
    {
     "ename": "AttributeError",
     "evalue": "'int' object has no attribute 'a'",
     "output_type": "error",
     "traceback": [
      "\u001b[1;31m---------------------------------------------------------------------------\u001b[0m",
      "\u001b[1;31mAttributeError\u001b[0m                            Traceback (most recent call last)",
      "\u001b[1;32m<ipython-input-38-db5c291668c5>\u001b[0m in \u001b[0;36m<module>\u001b[1;34m\u001b[0m\n\u001b[1;32m----> 1\u001b[1;33m \u001b[0mpg_last\u001b[0m \u001b[1;33m=\u001b[0m \u001b[0mel_td_last\u001b[0m\u001b[1;33m.\u001b[0m\u001b[0ma\u001b[0m\u001b[1;33m.\u001b[0m\u001b[0mget\u001b[0m\u001b[1;33m(\u001b[0m\u001b[1;34m'href'\u001b[0m\u001b[1;33m)\u001b[0m\u001b[1;33m.\u001b[0m\u001b[0mrsplit\u001b[0m\u001b[1;33m(\u001b[0m\u001b[1;34m'&'\u001b[0m\u001b[1;33m)\u001b[0m\u001b[1;33m[\u001b[0m\u001b[1;36m1\u001b[0m\u001b[1;33m]\u001b[0m\u001b[1;33m\u001b[0m\u001b[1;33m\u001b[0m\u001b[0m\n\u001b[0m",
      "\u001b[1;31mAttributeError\u001b[0m: 'int' object has no attribute 'a'"
     ]
    }
   ],
   "source": [
    "pg_last = el_td_last.a.get('href').rsplit('&')[1]"
   ]
  },
  {
   "cell_type": "code",
   "execution_count": 33,
   "metadata": {},
   "outputs": [
    {
     "ename": "AttributeError",
     "evalue": "'NoneType' object has no attribute 'find'",
     "output_type": "error",
     "traceback": [
      "\u001b[1;31m---------------------------------------------------------------------------\u001b[0m",
      "\u001b[1;31mAttributeError\u001b[0m                            Traceback (most recent call last)",
      "\u001b[1;32m<ipython-input-33-d2dc4159e62e>\u001b[0m in \u001b[0;36m<module>\u001b[1;34m\u001b[0m\n\u001b[0;32m      1\u001b[0m \u001b[0mel_table_navi\u001b[0m \u001b[1;33m=\u001b[0m \u001b[0msoap\u001b[0m\u001b[1;33m.\u001b[0m\u001b[0mfind\u001b[0m\u001b[1;33m(\u001b[0m\u001b[1;34m\"table\"\u001b[0m\u001b[1;33m,\u001b[0m \u001b[0mclass_\u001b[0m\u001b[1;33m=\u001b[0m\u001b[1;34m\"Nnavi\"\u001b[0m\u001b[1;33m)\u001b[0m\u001b[1;33m\u001b[0m\u001b[1;33m\u001b[0m\u001b[0m\n\u001b[1;32m----> 2\u001b[1;33m \u001b[0mel_td_last\u001b[0m \u001b[1;33m=\u001b[0m \u001b[0mel_table_navi\u001b[0m\u001b[1;33m.\u001b[0m\u001b[0mfind\u001b[0m\u001b[1;33m(\u001b[0m\u001b[1;34m\"td\"\u001b[0m\u001b[1;33m,\u001b[0m \u001b[0mclass_\u001b[0m\u001b[1;33m=\u001b[0m\u001b[1;34m\"pgRR\"\u001b[0m\u001b[1;33m)\u001b[0m\u001b[1;33m\u001b[0m\u001b[1;33m\u001b[0m\u001b[0m\n\u001b[0m\u001b[0;32m      3\u001b[0m \u001b[0mpg_last\u001b[0m \u001b[1;33m=\u001b[0m \u001b[0mel_td_last\u001b[0m\u001b[1;33m.\u001b[0m\u001b[0ma\u001b[0m\u001b[1;33m.\u001b[0m\u001b[0mget\u001b[0m\u001b[1;33m(\u001b[0m\u001b[1;34m'href'\u001b[0m\u001b[1;33m)\u001b[0m\u001b[1;33m.\u001b[0m\u001b[0mrsplit\u001b[0m\u001b[1;33m(\u001b[0m\u001b[1;34m'&'\u001b[0m\u001b[1;33m)\u001b[0m\u001b[1;33m[\u001b[0m\u001b[1;36m1\u001b[0m\u001b[1;33m]\u001b[0m\u001b[1;33m\u001b[0m\u001b[1;33m\u001b[0m\u001b[0m\n\u001b[0;32m      4\u001b[0m \u001b[0mpg_last\u001b[0m \u001b[1;33m=\u001b[0m \u001b[0mpg_last\u001b[0m\u001b[1;33m.\u001b[0m\u001b[0msplit\u001b[0m\u001b[1;33m(\u001b[0m\u001b[1;34m'='\u001b[0m\u001b[1;33m)\u001b[0m\u001b[1;33m[\u001b[0m\u001b[1;36m1\u001b[0m\u001b[1;33m]\u001b[0m\u001b[1;33m\u001b[0m\u001b[1;33m\u001b[0m\u001b[0m\n\u001b[0;32m      5\u001b[0m \u001b[0mpg_last\u001b[0m \u001b[1;33m=\u001b[0m \u001b[0mint\u001b[0m\u001b[1;33m(\u001b[0m\u001b[0mpg_last\u001b[0m\u001b[1;33m)\u001b[0m\u001b[1;33m\u001b[0m\u001b[1;33m\u001b[0m\u001b[0m\n",
      "\u001b[1;31mAttributeError\u001b[0m: 'NoneType' object has no attribute 'find'"
     ]
    }
   ],
   "source": [
    "pg_last = pg_last.split('=')[1]\n",
    "pg_last = int(pg_last)\n",
    "pg_last"
   ]
  },
  {
   "cell_type": "code",
   "execution_count": 40,
   "metadata": {},
   "outputs": [],
   "source": [
    "import traceback"
   ]
  },
  {
   "cell_type": "code",
   "execution_count": 41,
   "metadata": {},
   "outputs": [],
   "source": [
    "import traceback\n",
    "import pandas as pd\n",
    "\n",
    "def parse_page(code, page):\n",
    "    try:\n",
    "        url = 'http://finance.naver.com/item/sise_day.nhn?code={code}&page={page}'.format(code=code, page=page)\n",
    "        res = requests.get(url)\n",
    "        _soap = BeautifulSoup(res.text, 'lxml')\n",
    "        _df = pd.read_html(str(_soap.find(\"table\")), header=0)[0]\n",
    "        _df = _df.dropna()\n",
    "        return _df\n",
    "    except Exception as e:\n",
    "        traceback.print_exc()\n",
    "    return None"
   ]
  },
  {
   "cell_type": "code",
   "execution_count": 42,
   "metadata": {},
   "outputs": [
    {
     "name": "stderr",
     "output_type": "stream",
     "text": [
      "Traceback (most recent call last):\n",
      "  File \"<ipython-input-41-d9fcf7c02ba8>\", line 9, in parse_page\n",
      "    _df = pd.read_html(str(_soap.find(\"table\")), header=0)[0]\n",
      "  File \"C:\\Users\\sarah\\anaconda3\\lib\\site-packages\\pandas\\util\\_decorators.py\", line 296, in wrapper\n",
      "    return func(*args, **kwargs)\n",
      "  File \"C:\\Users\\sarah\\anaconda3\\lib\\site-packages\\pandas\\io\\html.py\", line 1086, in read_html\n",
      "    return _parse(\n",
      "  File \"C:\\Users\\sarah\\anaconda3\\lib\\site-packages\\pandas\\io\\html.py\", line 917, in _parse\n",
      "    raise retained\n",
      "  File \"C:\\Users\\sarah\\anaconda3\\lib\\site-packages\\pandas\\io\\html.py\", line 898, in _parse\n",
      "    tables = p.parse_tables()\n",
      "  File \"C:\\Users\\sarah\\anaconda3\\lib\\site-packages\\pandas\\io\\html.py\", line 217, in parse_tables\n",
      "    tables = self._parse_tables(self._build_doc(), self.match, self.attrs)\n",
      "  File \"C:\\Users\\sarah\\anaconda3\\lib\\site-packages\\pandas\\io\\html.py\", line 547, in _parse_tables\n",
      "    raise ValueError(\"No tables found\")\n",
      "ValueError: No tables found\n"
     ]
    }
   ],
   "source": [
    "parse_page(code, 1)"
   ]
  },
  {
   "cell_type": "code",
   "execution_count": null,
   "metadata": {},
   "outputs": [],
   "source": []
  },
  {
   "cell_type": "code",
   "execution_count": null,
   "metadata": {},
   "outputs": [],
   "source": []
  },
  {
   "cell_type": "code",
   "execution_count": null,
   "metadata": {},
   "outputs": [],
   "source": []
  },
  {
   "cell_type": "code",
   "execution_count": 55,
   "metadata": {},
   "outputs": [],
   "source": [
    "import requests\n",
    "from bs4 import BeautifulSoup\n",
    " \n",
    "url = \"https://finance.naver.com/item/main.nhn?code=263750\"\n",
    "result = requests.get(url)\n",
    "bs_obj = BeautifulSoup(result.content, \"html.parser\")\n",
    " \n",
    "#close 종가(전일)\n",
    "td_first = bs_obj.find(\"td\", {\"class\": \"first\"})  # 태그 td, 속성값 first 찾기"
   ]
  },
  {
   "cell_type": "code",
   "execution_count": 56,
   "metadata": {},
   "outputs": [
    {
     "name": "stdout",
     "output_type": "stream",
     "text": [
      "<td class=\"first\">\n",
      "<span class=\"sptxt sp_txt2\">전일</span>\n",
      "<em>\n",
      "<span class=\"blind\">283,500</span>\n",
      "<span class=\"no2\">2</span><span class=\"no8\">8</span><span class=\"no3\">3</span><span class=\"shim\">,</span><span class=\"no5\">5</span><span class=\"no0\">0</span><span class=\"no0\">0</span>\n",
      "</em>\n",
      "</td>\n"
     ]
    }
   ],
   "source": [
    "print(td_first)"
   ]
  },
  {
   "cell_type": "code",
   "execution_count": 45,
   "metadata": {},
   "outputs": [],
   "source": [
    "blind = td_first.find(\"span\", {\"class\": \"blind\"})  # 태그 span, 속성값 blind 찾기\n",
    "close = blind.text"
   ]
  },
  {
   "cell_type": "code",
   "execution_count": 46,
   "metadata": {},
   "outputs": [
    {
     "name": "stdout",
     "output_type": "stream",
     "text": [
      "283,500\n"
     ]
    }
   ],
   "source": [
    "print(close)"
   ]
  },
  {
   "cell_type": "code",
   "execution_count": 70,
   "metadata": {},
   "outputs": [],
   "source": [
    "url = 'https://finance.naver.com/item/sise.nhn?code=005930'"
   ]
  },
  {
   "cell_type": "code",
   "execution_count": 71,
   "metadata": {},
   "outputs": [],
   "source": [
    "result = requests.get(url)\n",
    "bs_obj = BeautifulSoup(result.content, \"html.parser\")\n"
   ]
  },
  {
   "cell_type": "code",
   "execution_count": 73,
   "metadata": {},
   "outputs": [],
   "source": [
    "td_first = bs_obj.find(\"td\", {\"class\": \"num\"})  # 태그 td, 속성값 first 찾기\n"
   ]
  },
  {
   "cell_type": "code",
   "execution_count": 52,
   "metadata": {},
   "outputs": [
    {
     "ename": "AttributeError",
     "evalue": "'NoneType' object has no attribute 'find'",
     "output_type": "error",
     "traceback": [
      "\u001b[1;31m---------------------------------------------------------------------------\u001b[0m",
      "\u001b[1;31mAttributeError\u001b[0m                            Traceback (most recent call last)",
      "\u001b[1;32m<ipython-input-52-c474d9d6ae85>\u001b[0m in \u001b[0;36m<module>\u001b[1;34m\u001b[0m\n\u001b[0;32m      1\u001b[0m \u001b[0mtd_first\u001b[0m \u001b[1;33m=\u001b[0m \u001b[0mbs_obj\u001b[0m\u001b[1;33m.\u001b[0m\u001b[0mfind\u001b[0m\u001b[1;33m(\u001b[0m\u001b[1;34m\"td\"\u001b[0m\u001b[1;33m,\u001b[0m \u001b[1;33m{\u001b[0m\u001b[1;34m\"align\"\u001b[0m\u001b[1;33m:\u001b[0m \u001b[1;34m\"center\"\u001b[0m\u001b[1;33m}\u001b[0m\u001b[1;33m)\u001b[0m  \u001b[1;31m# 태그 td, 속성값 first 찾기\u001b[0m\u001b[1;33m\u001b[0m\u001b[1;33m\u001b[0m\u001b[0m\n\u001b[1;32m----> 2\u001b[1;33m \u001b[0mblind\u001b[0m \u001b[1;33m=\u001b[0m \u001b[0mtd_first\u001b[0m\u001b[1;33m.\u001b[0m\u001b[0mfind\u001b[0m\u001b[1;33m(\u001b[0m\u001b[1;34m\"span\"\u001b[0m\u001b[1;33m,\u001b[0m \u001b[1;33m{\u001b[0m\u001b[1;34m\"class\"\u001b[0m\u001b[1;33m:\u001b[0m \u001b[1;34m\"tah p10 gray03\"\u001b[0m\u001b[1;33m}\u001b[0m\u001b[1;33m)\u001b[0m  \u001b[1;31m# 태그 span, 속성값 blind 찾기\u001b[0m\u001b[1;33m\u001b[0m\u001b[1;33m\u001b[0m\u001b[0m\n\u001b[0m\u001b[0;32m      3\u001b[0m \u001b[0mclose\u001b[0m \u001b[1;33m=\u001b[0m \u001b[0mblind\u001b[0m\u001b[1;33m.\u001b[0m\u001b[0mtext\u001b[0m\u001b[1;33m\u001b[0m\u001b[1;33m\u001b[0m\u001b[0m\n",
      "\u001b[1;31mAttributeError\u001b[0m: 'NoneType' object has no attribute 'find'"
     ]
    }
   ],
   "source": [
    "td_first = bs_obj.find(\"td\", {\"align\": \"center\"})  # 태그 td, 속성값 first 찾기\n",
    "blind = td_first.find(\"span\", {\"class\": \"tah p10 gray03\"})  # 태그 span, 속성값 blind 찾기\n",
    "close = blind.text"
   ]
  },
  {
   "cell_type": "code",
   "execution_count": 74,
   "metadata": {},
   "outputs": [
    {
     "name": "stdout",
     "output_type": "stream",
     "text": [
      "<td class=\"num\"><strong class=\"tah p11\" id=\"_nowVal\">81,400</strong></td>\n"
     ]
    }
   ],
   "source": [
    "print(td_first)"
   ]
  },
  {
   "cell_type": "code",
   "execution_count": null,
   "metadata": {},
   "outputs": [],
   "source": []
  }
 ],
 "metadata": {
  "kernelspec": {
   "display_name": "Python 3",
   "language": "python",
   "name": "python3"
  },
  "language_info": {
   "codemirror_mode": {
    "name": "ipython",
    "version": 3
   },
   "file_extension": ".py",
   "mimetype": "text/x-python",
   "name": "python",
   "nbconvert_exporter": "python",
   "pygments_lexer": "ipython3",
   "version": "3.8.5"
  }
 },
 "nbformat": 4,
 "nbformat_minor": 4
}
