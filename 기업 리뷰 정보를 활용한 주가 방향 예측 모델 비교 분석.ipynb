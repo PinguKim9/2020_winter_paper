{
 "cells": [
  {
   "cell_type": "markdown",
   "metadata": {},
   "source": [
    "랜덤 포레스트 알고리즘에 rfe(recurrent feature elimination)를 정의한 코드"
   ]
  },
  {
   "cell_type": "code",
   "execution_count": 1,
   "metadata": {},
   "outputs": [],
   "source": [
    "import pandas as pd"
   ]
  },
  {
   "cell_type": "code",
   "execution_count": 3,
   "metadata": {},
   "outputs": [],
   "source": [
    "def rf_rfe(x_data, X_train, y_train, X_test, y_test, method, ratio=0.09, min_feats=40) :\n",
    "    feats = x_data.columns.tolist()\n",
    "    archive = pd.DataFrame(columns = ['model', 'n_feats', 'feats', 'rmse', 'accuracy'])\n",
    "    while True :\n",
    "        model = RandomForestClassifier()\n",
    "        model.fit(X_train[feats], y_train)\n",
    "        pred = model.predict(X_test[feats])\n",
    "        rmse = rmse(pred, y_test)\n",
    "        accuracy = accuracy_score(y_test, pred)\n",
    "        n_feats = len(feats)\n",
    "        print(n_feats, rmse, accuracy)\n",
    "        archive = archive.append({'model':model, 'n_feats':n_feats, 'feats':feats, 'rmse':rmse, 'accuracy':accuracy}, ignore_index=True)\n",
    "        if method == 'perm' :\n",
    "            perm = PermutationImportance(model, random_state=0).fit(X_test[feats], y_test)\n",
    "            feat_imp = pd.Series(perm.feature_importances_, index=feats).sort_values(ascending=False)\n",
    "        next_n_feats = int(n_feats * ratio)\n",
    "        if next_n_feats < min_feats :\n",
    "            break\n",
    "        else : \n",
    "            feats = feat_imp.iloc[:next_n_feats].index.tolist()\n",
    "    \n",
    "    archive_rf = pd.DataFrame(archive)\n",
    "    archive_rf = archive_rf.sort_values(by = \"rmse\")\n",
    "    filename = f\"randomforest_{method}.csv\"\n",
    "    archive_rf.to_csv(filename, encoding = 'utf-8-sig')\n",
    "    \n",
    "    return archive"
   ]
  },
  {
   "cell_type": "code",
   "execution_count": null,
   "metadata": {},
   "outputs": [],
   "source": []
  }
 ],
 "metadata": {
  "kernelspec": {
   "display_name": "Python 3",
   "language": "python",
   "name": "python3"
  },
  "language_info": {
   "codemirror_mode": {
    "name": "ipython",
    "version": 3
   },
   "file_extension": ".py",
   "mimetype": "text/x-python",
   "name": "python",
   "nbconvert_exporter": "python",
   "pygments_lexer": "ipython3",
   "version": "3.7.3"
  }
 },
 "nbformat": 4,
 "nbformat_minor": 2
}
